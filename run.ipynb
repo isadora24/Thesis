{
 "cells": [
  {
   "cell_type": "code",
   "execution_count": 2,
   "metadata": {},
   "outputs": [
    {
     "name": "stdout",
     "output_type": "stream",
     "text": [
      "Requirement already satisfied: numpy in c:\\users\\isadora\\appdata\\local\\programs\\python\\python312\\lib\\site-packages (1.26.3)\n",
      "Note: you may need to restart the kernel to use updated packages.\n"
     ]
    },
    {
     "name": "stderr",
     "output_type": "stream",
     "text": [
      "\n",
      "[notice] A new release of pip is available: 23.2.1 -> 24.1.2\n",
      "[notice] To update, run: python.exe -m pip install --upgrade pip\n"
     ]
    },
    {
     "name": "stdout",
     "output_type": "stream",
     "text": [
      "Requirement already satisfied: pandas in c:\\users\\isadora\\appdata\\local\\programs\\python\\python312\\lib\\site-packages (2.1.4)\n",
      "Requirement already satisfied: numpy<2,>=1.26.0 in c:\\users\\isadora\\appdata\\local\\programs\\python\\python312\\lib\\site-packages (from pandas) (1.26.3)\n",
      "Requirement already satisfied: python-dateutil>=2.8.2 in c:\\users\\isadora\\appdata\\roaming\\python\\python312\\site-packages (from pandas) (2.8.2)\n",
      "Requirement already satisfied: pytz>=2020.1 in c:\\users\\isadora\\appdata\\local\\programs\\python\\python312\\lib\\site-packages (from pandas) (2023.3.post1)\n",
      "Requirement already satisfied: tzdata>=2022.1 in c:\\users\\isadora\\appdata\\local\\programs\\python\\python312\\lib\\site-packages (from pandas) (2023.4)\n",
      "Requirement already satisfied: six>=1.5 in c:\\users\\isadora\\appdata\\roaming\\python\\python312\\site-packages (from python-dateutil>=2.8.2->pandas) (1.16.0)\n",
      "Note: you may need to restart the kernel to use updated packages.\n"
     ]
    },
    {
     "name": "stderr",
     "output_type": "stream",
     "text": [
      "\n",
      "[notice] A new release of pip is available: 23.2.1 -> 24.1.2\n",
      "[notice] To update, run: python.exe -m pip install --upgrade pip\n"
     ]
    },
    {
     "name": "stdout",
     "output_type": "stream",
     "text": [
      "Requirement already satisfied: pandas in c:\\users\\isadora\\appdata\\local\\programs\\python\\python312\\lib\\site-packages (2.1.4)\n",
      "Requirement already satisfied: numpy<2,>=1.26.0 in c:\\users\\isadora\\appdata\\local\\programs\\python\\python312\\lib\\site-packages (from pandas) (1.26.3)\n",
      "Requirement already satisfied: python-dateutil>=2.8.2 in c:\\users\\isadora\\appdata\\roaming\\python\\python312\\site-packages (from pandas) (2.8.2)\n",
      "Requirement already satisfied: pytz>=2020.1 in c:\\users\\isadora\\appdata\\local\\programs\\python\\python312\\lib\\site-packages (from pandas) (2023.3.post1)\n",
      "Requirement already satisfied: tzdata>=2022.1 in c:\\users\\isadora\\appdata\\local\\programs\\python\\python312\\lib\\site-packages (from pandas) (2023.4)\n",
      "Requirement already satisfied: six>=1.5 in c:\\users\\isadora\\appdata\\roaming\\python\\python312\\site-packages (from python-dateutil>=2.8.2->pandas) (1.16.0)\n",
      "Note: you may need to restart the kernel to use updated packages.\n"
     ]
    },
    {
     "name": "stderr",
     "output_type": "stream",
     "text": [
      "\n",
      "[notice] A new release of pip is available: 23.2.1 -> 24.1.2\n",
      "[notice] To update, run: python.exe -m pip install --upgrade pip\n"
     ]
    },
    {
     "name": "stdout",
     "output_type": "stream",
     "text": [
      "Requirement already satisfied: matplotlib in c:\\users\\isadora\\appdata\\local\\programs\\python\\python312\\lib\\site-packages (3.8.2)\n",
      "Requirement already satisfied: contourpy>=1.0.1 in c:\\users\\isadora\\appdata\\local\\programs\\python\\python312\\lib\\site-packages (from matplotlib) (1.2.0)\n",
      "Requirement already satisfied: cycler>=0.10 in c:\\users\\isadora\\appdata\\local\\programs\\python\\python312\\lib\\site-packages (from matplotlib) (0.12.1)\n",
      "Requirement already satisfied: fonttools>=4.22.0 in c:\\users\\isadora\\appdata\\local\\programs\\python\\python312\\lib\\site-packages (from matplotlib) (4.47.2)\n",
      "Requirement already satisfied: kiwisolver>=1.3.1 in c:\\users\\isadora\\appdata\\local\\programs\\python\\python312\\lib\\site-packages (from matplotlib) (1.4.5)\n",
      "Requirement already satisfied: numpy<2,>=1.21 in c:\\users\\isadora\\appdata\\local\\programs\\python\\python312\\lib\\site-packages (from matplotlib) (1.26.3)\n",
      "Requirement already satisfied: packaging>=20.0 in c:\\users\\isadora\\appdata\\roaming\\python\\python312\\site-packages (from matplotlib) (23.2)\n",
      "Requirement already satisfied: pillow>=8 in c:\\users\\isadora\\appdata\\local\\programs\\python\\python312\\lib\\site-packages (from matplotlib) (10.2.0)\n",
      "Requirement already satisfied: pyparsing>=2.3.1 in c:\\users\\isadora\\appdata\\local\\programs\\python\\python312\\lib\\site-packages (from matplotlib) (3.1.1)\n",
      "Requirement already satisfied: python-dateutil>=2.7 in c:\\users\\isadora\\appdata\\roaming\\python\\python312\\site-packages (from matplotlib) (2.8.2)\n",
      "Requirement already satisfied: six>=1.5 in c:\\users\\isadora\\appdata\\roaming\\python\\python312\\site-packages (from python-dateutil>=2.7->matplotlib) (1.16.0)\n",
      "Note: you may need to restart the kernel to use updated packages.\n"
     ]
    },
    {
     "name": "stderr",
     "output_type": "stream",
     "text": [
      "\n",
      "[notice] A new release of pip is available: 23.2.1 -> 24.1.2\n",
      "[notice] To update, run: python.exe -m pip install --upgrade pip\n"
     ]
    },
    {
     "name": "stdout",
     "output_type": "stream",
     "text": [
      "Requirement already satisfied: geopandas in c:\\users\\isadora\\appdata\\local\\programs\\python\\python312\\lib\\site-packages (0.14.2)\n",
      "Requirement already satisfied: fiona>=1.8.21 in c:\\users\\isadora\\appdata\\local\\programs\\python\\python312\\lib\\site-packages (from geopandas) (1.9.5)\n",
      "Requirement already satisfied: packaging in c:\\users\\isadora\\appdata\\roaming\\python\\python312\\site-packages (from geopandas) (23.2)\n",
      "Requirement already satisfied: pandas>=1.4.0 in c:\\users\\isadora\\appdata\\local\\programs\\python\\python312\\lib\\site-packages (from geopandas) (2.1.4)\n",
      "Requirement already satisfied: pyproj>=3.3.0 in c:\\users\\isadora\\appdata\\local\\programs\\python\\python312\\lib\\site-packages (from geopandas) (3.6.1)\n",
      "Requirement already satisfied: shapely>=1.8.0 in c:\\users\\isadora\\appdata\\local\\programs\\python\\python312\\lib\\site-packages (from geopandas) (2.0.2)\n",
      "Requirement already satisfied: attrs>=19.2.0 in c:\\users\\isadora\\appdata\\local\\programs\\python\\python312\\lib\\site-packages (from fiona>=1.8.21->geopandas) (23.2.0)\n",
      "Requirement already satisfied: certifi in c:\\users\\isadora\\appdata\\local\\programs\\python\\python312\\lib\\site-packages (from fiona>=1.8.21->geopandas) (2023.11.17)\n",
      "Requirement already satisfied: click~=8.0 in c:\\users\\isadora\\appdata\\local\\programs\\python\\python312\\lib\\site-packages (from fiona>=1.8.21->geopandas) (8.1.7)\n",
      "Requirement already satisfied: click-plugins>=1.0 in c:\\users\\isadora\\appdata\\local\\programs\\python\\python312\\lib\\site-packages (from fiona>=1.8.21->geopandas) (1.1.1)\n",
      "Requirement already satisfied: cligj>=0.5 in c:\\users\\isadora\\appdata\\local\\programs\\python\\python312\\lib\\site-packages (from fiona>=1.8.21->geopandas) (0.7.2)\n",
      "Requirement already satisfied: six in c:\\users\\isadora\\appdata\\roaming\\python\\python312\\site-packages (from fiona>=1.8.21->geopandas) (1.16.0)\n",
      "Requirement already satisfied: setuptools in c:\\users\\isadora\\appdata\\local\\programs\\python\\python312\\lib\\site-packages (from fiona>=1.8.21->geopandas) (69.0.3)\n",
      "Requirement already satisfied: numpy<2,>=1.26.0 in c:\\users\\isadora\\appdata\\local\\programs\\python\\python312\\lib\\site-packages (from pandas>=1.4.0->geopandas) (1.26.3)\n",
      "Requirement already satisfied: python-dateutil>=2.8.2 in c:\\users\\isadora\\appdata\\roaming\\python\\python312\\site-packages (from pandas>=1.4.0->geopandas) (2.8.2)\n",
      "Requirement already satisfied: pytz>=2020.1 in c:\\users\\isadora\\appdata\\local\\programs\\python\\python312\\lib\\site-packages (from pandas>=1.4.0->geopandas) (2023.3.post1)\n",
      "Requirement already satisfied: tzdata>=2022.1 in c:\\users\\isadora\\appdata\\local\\programs\\python\\python312\\lib\\site-packages (from pandas>=1.4.0->geopandas) (2023.4)\n",
      "Requirement already satisfied: colorama in c:\\users\\isadora\\appdata\\roaming\\python\\python312\\site-packages (from click~=8.0->fiona>=1.8.21->geopandas) (0.4.6)\n",
      "Note: you may need to restart the kernel to use updated packages.\n"
     ]
    },
    {
     "name": "stderr",
     "output_type": "stream",
     "text": [
      "\n",
      "[notice] A new release of pip is available: 23.2.1 -> 24.1.2\n",
      "[notice] To update, run: python.exe -m pip install --upgrade pip\n"
     ]
    },
    {
     "name": "stdout",
     "output_type": "stream",
     "text": [
      "Requirement already satisfied: scikit-learn in c:\\users\\isadora\\appdata\\local\\programs\\python\\python312\\lib\\site-packages (1.4.0)\n",
      "Requirement already satisfied: numpy<2.0,>=1.19.5 in c:\\users\\isadora\\appdata\\local\\programs\\python\\python312\\lib\\site-packages (from scikit-learn) (1.26.3)\n",
      "Requirement already satisfied: scipy>=1.6.0 in c:\\users\\isadora\\appdata\\local\\programs\\python\\python312\\lib\\site-packages (from scikit-learn) (1.12.0)\n",
      "Requirement already satisfied: joblib>=1.2.0 in c:\\users\\isadora\\appdata\\local\\programs\\python\\python312\\lib\\site-packages (from scikit-learn) (1.3.2)\n",
      "Requirement already satisfied: threadpoolctl>=2.0.0 in c:\\users\\isadora\\appdata\\local\\programs\\python\\python312\\lib\\site-packages (from scikit-learn) (3.2.0)\n",
      "Note: you may need to restart the kernel to use updated packages.\n"
     ]
    },
    {
     "name": "stderr",
     "output_type": "stream",
     "text": [
      "\n",
      "[notice] A new release of pip is available: 23.2.1 -> 24.1.2\n",
      "[notice] To update, run: python.exe -m pip install --upgrade pip\n"
     ]
    },
    {
     "name": "stdout",
     "output_type": "stream",
     "text": [
      "Requirement already satisfied: nltk in c:\\users\\isadora\\appdata\\local\\programs\\python\\python312\\lib\\site-packages (3.8.1)\n",
      "Requirement already satisfied: matplotlib in c:\\users\\isadora\\appdata\\local\\programs\\python\\python312\\lib\\site-packages (3.8.2)\n",
      "Requirement already satisfied: click in c:\\users\\isadora\\appdata\\local\\programs\\python\\python312\\lib\\site-packages (from nltk) (8.1.7)\n",
      "Requirement already satisfied: joblib in c:\\users\\isadora\\appdata\\local\\programs\\python\\python312\\lib\\site-packages (from nltk) (1.3.2)\n",
      "Requirement already satisfied: regex>=2021.8.3 in c:\\users\\isadora\\appdata\\local\\programs\\python\\python312\\lib\\site-packages (from nltk) (2023.12.25)\n",
      "Requirement already satisfied: tqdm in c:\\users\\isadora\\appdata\\local\\programs\\python\\python312\\lib\\site-packages (from nltk) (4.66.1)\n",
      "Requirement already satisfied: contourpy>=1.0.1 in c:\\users\\isadora\\appdata\\local\\programs\\python\\python312\\lib\\site-packages (from matplotlib) (1.2.0)\n",
      "Requirement already satisfied: cycler>=0.10 in c:\\users\\isadora\\appdata\\local\\programs\\python\\python312\\lib\\site-packages (from matplotlib) (0.12.1)\n",
      "Requirement already satisfied: fonttools>=4.22.0 in c:\\users\\isadora\\appdata\\local\\programs\\python\\python312\\lib\\site-packages (from matplotlib) (4.47.2)\n",
      "Requirement already satisfied: kiwisolver>=1.3.1 in c:\\users\\isadora\\appdata\\local\\programs\\python\\python312\\lib\\site-packages (from matplotlib) (1.4.5)\n",
      "Requirement already satisfied: numpy<2,>=1.21 in c:\\users\\isadora\\appdata\\local\\programs\\python\\python312\\lib\\site-packages (from matplotlib) (1.26.3)\n",
      "Requirement already satisfied: packaging>=20.0 in c:\\users\\isadora\\appdata\\roaming\\python\\python312\\site-packages (from matplotlib) (23.2)\n",
      "Requirement already satisfied: pillow>=8 in c:\\users\\isadora\\appdata\\local\\programs\\python\\python312\\lib\\site-packages (from matplotlib) (10.2.0)\n",
      "Requirement already satisfied: pyparsing>=2.3.1 in c:\\users\\isadora\\appdata\\local\\programs\\python\\python312\\lib\\site-packages (from matplotlib) (3.1.1)\n",
      "Requirement already satisfied: python-dateutil>=2.7 in c:\\users\\isadora\\appdata\\roaming\\python\\python312\\site-packages (from matplotlib) (2.8.2)\n",
      "Requirement already satisfied: six>=1.5 in c:\\users\\isadora\\appdata\\roaming\\python\\python312\\site-packages (from python-dateutil>=2.7->matplotlib) (1.16.0)\n",
      "Requirement already satisfied: colorama in c:\\users\\isadora\\appdata\\roaming\\python\\python312\\site-packages (from click->nltk) (0.4.6)\n",
      "Note: you may need to restart the kernel to use updated packages.\n"
     ]
    },
    {
     "name": "stderr",
     "output_type": "stream",
     "text": [
      "\n",
      "[notice] A new release of pip is available: 23.2.1 -> 24.1.2\n",
      "[notice] To update, run: python.exe -m pip install --upgrade pip\n"
     ]
    },
    {
     "name": "stdout",
     "output_type": "stream",
     "text": [
      "Requirement already satisfied: WordCloud in c:\\users\\isadora\\appdata\\local\\programs\\python\\python312\\lib\\site-packages (1.9.3)\n",
      "Requirement already satisfied: numpy>=1.6.1 in c:\\users\\isadora\\appdata\\local\\programs\\python\\python312\\lib\\site-packages (from WordCloud) (1.26.3)\n",
      "Requirement already satisfied: pillow in c:\\users\\isadora\\appdata\\local\\programs\\python\\python312\\lib\\site-packages (from WordCloud) (10.2.0)\n",
      "Requirement already satisfied: matplotlib in c:\\users\\isadora\\appdata\\local\\programs\\python\\python312\\lib\\site-packages (from WordCloud) (3.8.2)\n",
      "Requirement already satisfied: contourpy>=1.0.1 in c:\\users\\isadora\\appdata\\local\\programs\\python\\python312\\lib\\site-packages (from matplotlib->WordCloud) (1.2.0)\n",
      "Requirement already satisfied: cycler>=0.10 in c:\\users\\isadora\\appdata\\local\\programs\\python\\python312\\lib\\site-packages (from matplotlib->WordCloud) (0.12.1)\n",
      "Requirement already satisfied: fonttools>=4.22.0 in c:\\users\\isadora\\appdata\\local\\programs\\python\\python312\\lib\\site-packages (from matplotlib->WordCloud) (4.47.2)\n",
      "Requirement already satisfied: kiwisolver>=1.3.1 in c:\\users\\isadora\\appdata\\local\\programs\\python\\python312\\lib\\site-packages (from matplotlib->WordCloud) (1.4.5)\n",
      "Requirement already satisfied: packaging>=20.0 in c:\\users\\isadora\\appdata\\roaming\\python\\python312\\site-packages (from matplotlib->WordCloud) (23.2)\n",
      "Requirement already satisfied: pyparsing>=2.3.1 in c:\\users\\isadora\\appdata\\local\\programs\\python\\python312\\lib\\site-packages (from matplotlib->WordCloud) (3.1.1)\n",
      "Requirement already satisfied: python-dateutil>=2.7 in c:\\users\\isadora\\appdata\\roaming\\python\\python312\\site-packages (from matplotlib->WordCloud) (2.8.2)\n",
      "Requirement already satisfied: six>=1.5 in c:\\users\\isadora\\appdata\\roaming\\python\\python312\\site-packages (from python-dateutil>=2.7->matplotlib->WordCloud) (1.16.0)\n",
      "Note: you may need to restart the kernel to use updated packages.\n"
     ]
    },
    {
     "name": "stderr",
     "output_type": "stream",
     "text": [
      "\n",
      "[notice] A new release of pip is available: 23.2.1 -> 24.1.2\n",
      "[notice] To update, run: python.exe -m pip install --upgrade pip\n"
     ]
    },
    {
     "name": "stdout",
     "output_type": "stream",
     "text": [
      "Requirement already satisfied: Counter in c:\\users\\isadora\\appdata\\local\\programs\\python\\python312\\lib\\site-packages (1.0.0)\n",
      "Note: you may need to restart the kernel to use updated packages.\n"
     ]
    },
    {
     "name": "stderr",
     "output_type": "stream",
     "text": [
      "\n",
      "[notice] A new release of pip is available: 23.2.1 -> 24.1.2\n",
      "[notice] To update, run: python.exe -m pip install --upgrade pip\n"
     ]
    },
    {
     "name": "stdout",
     "output_type": "stream",
     "text": [
      "Requirement already satisfied: nltk in c:\\users\\isadora\\appdata\\local\\programs\\python\\python312\\lib\\site-packages (3.8.1)\n",
      "Requirement already satisfied: click in c:\\users\\isadora\\appdata\\local\\programs\\python\\python312\\lib\\site-packages (from nltk) (8.1.7)\n",
      "Requirement already satisfied: joblib in c:\\users\\isadora\\appdata\\local\\programs\\python\\python312\\lib\\site-packages (from nltk) (1.3.2)\n",
      "Requirement already satisfied: regex>=2021.8.3 in c:\\users\\isadora\\appdata\\local\\programs\\python\\python312\\lib\\site-packages (from nltk) (2023.12.25)\n",
      "Requirement already satisfied: tqdm in c:\\users\\isadora\\appdata\\local\\programs\\python\\python312\\lib\\site-packages (from nltk) (4.66.1)\n",
      "Requirement already satisfied: colorama in c:\\users\\isadora\\appdata\\roaming\\python\\python312\\site-packages (from click->nltk) (0.4.6)\n",
      "Note: you may need to restart the kernel to use updated packages.\n"
     ]
    },
    {
     "name": "stderr",
     "output_type": "stream",
     "text": [
      "\n",
      "[notice] A new release of pip is available: 23.2.1 -> 24.1.2\n",
      "[notice] To update, run: python.exe -m pip install --upgrade pip\n",
      "[nltk_data] Downloading package stopwords to\n",
      "[nltk_data]     C:\\Users\\Isadora\\AppData\\Roaming\\nltk_data...\n",
      "[nltk_data]   Package stopwords is already up-to-date!\n",
      "[nltk_data] Downloading package omw-1.4 to\n",
      "[nltk_data]     C:\\Users\\Isadora\\AppData\\Roaming\\nltk_data...\n",
      "[nltk_data]   Package omw-1.4 is already up-to-date!\n",
      "[nltk_data] Downloading package wordnet to\n",
      "[nltk_data]     C:\\Users\\Isadora\\AppData\\Roaming\\nltk_data...\n",
      "[nltk_data]   Package wordnet is already up-to-date!\n",
      "[nltk_data] Downloading package punkt to\n",
      "[nltk_data]     C:\\Users\\Isadora\\AppData\\Roaming\\nltk_data...\n",
      "[nltk_data]   Package punkt is already up-to-date!\n"
     ]
    }
   ],
   "source": [
    "%pip install numpy\n",
    "%pip install pandas\n",
    "%pip install pandas\n",
    "%pip install matplotlib\n",
    "%pip install geopandas\n",
    "%pip install scikit-learn\n",
    "%pip install nltk matplotlib\n",
    "%pip install WordCloud\n",
    "%pip install Counter\n",
    "%pip install nltk\n",
    "\n",
    "import nltk\n",
    "import matplotlib.pyplot as plt\n",
    "import numpy as np\n",
    "import pandas as pd\n",
    "import json\n",
    "import ast\n",
    "#import geopandas as gpd\n",
    "from sklearn.linear_model import LogisticRegression\n",
    "from sklearn.linear_model import LinearRegression\n",
    "from sklearn.model_selection import train_test_split\n",
    "from sklearn.metrics import classification_report\n",
    "from sklearn.metrics import confusion_matrix  \n",
    "from sklearn.metrics import r2_score\n",
    "from nltk.sentiment.vader import SentimentIntensityAnalyzer\n",
    "from nltk.corpus import stopwords\n",
    "from nltk.tokenize import word_tokenize\n",
    "from nltk.stem import WordNetLemmatizer\n",
    "nltk.download('stopwords')\n",
    "nltk.download('omw-1.4')\n",
    "nltk.download('wordnet')\n",
    "nltk.download('punkt')\n",
    "from collections import Counter\n",
    "from wordcloud import WordCloud\n",
    "from sklearn.model_selection import train_test_split\n",
    "from sklearn.feature_extraction import text"
   ]
  },
  {
   "cell_type": "markdown",
   "metadata": {},
   "source": [
    "Import Dataset with reviews only in english and with sentiment calculates from all the ratings"
   ]
  },
  {
   "cell_type": "code",
   "execution_count": 3,
   "metadata": {},
   "outputs": [
    {
     "name": "stdout",
     "output_type": "stream",
     "text": [
      "<class 'pandas.core.frame.DataFrame'>\n",
      "RangeIndex: 770993 entries, 0 to 770992\n",
      "Data columns (total 15 columns):\n",
      " #   Column          Non-Null Count   Dtype  \n",
      "---  ------          --------------   -----  \n",
      " 0   title           770993 non-null  object \n",
      " 1   text            770993 non-null  object \n",
      " 2   date            770993 non-null  object \n",
      " 3   hotel_class     770993 non-null  float64\n",
      " 4   name            770993 non-null  object \n",
      " 5   region          770993 non-null  object \n",
      " 6   clean_text      770993 non-null  object \n",
      " 7   service         770993 non-null  float64\n",
      " 8   cleanliness     770993 non-null  float64\n",
      " 9   overall         770993 non-null  float64\n",
      " 10  value           770993 non-null  float64\n",
      " 11  location        770993 non-null  float64\n",
      " 12  sleep_quality   770993 non-null  float64\n",
      " 13  rooms           770993 non-null  float64\n",
      " 14  True_Sentiment  770993 non-null  object \n",
      "dtypes: float64(8), object(7)\n",
      "memory usage: 88.2+ MB\n"
     ]
    }
   ],
   "source": [
    "dataset = pd.read_csv('./dataset_CleanedReviews_With_True_Sentiments.csv')\n",
    "\n",
    "dataset.info()"
   ]
  },
  {
   "cell_type": "markdown",
   "metadata": {},
   "source": [
    "See Sentiment Distribution"
   ]
  },
  {
   "cell_type": "code",
   "execution_count": 4,
   "metadata": {},
   "outputs": [
    {
     "name": "stdout",
     "output_type": "stream",
     "text": [
      "Sentiment counts:\n",
      " True_Sentiment\n",
      "positive    663084\n",
      "neutral      62609\n",
      "negative     45300\n",
      "Name: count, dtype: int64\n"
     ]
    },
    {
     "data": {
      "image/png": "[encoded data removed]",
      "text/plain": [
       "<Figure size 800x600 with 1 Axes>"
      ]
     },
     "metadata": {},
     "output_type": "display_data"
    }
   ],
   "source": [
    "\n",
    "def plot_sentiment_distribution(dataset, sentiment_column='True_Sentiment'):\n",
    "\n",
    "    # Count the number of each sentiment\n",
    "    sentiment_counts = dataset[sentiment_column].value_counts()\n",
    "    \n",
    "    # Print counts\n",
    "    print(\"Sentiment counts:\\n\", sentiment_counts)\n",
    "    \n",
    "    # Plot the counts as a bar chart\n",
    "    plt.figure(figsize=(8, 6))\n",
    "    sentiment_counts.plot(kind='bar', color=['skyblue', 'salmon', 'lightgreen'])\n",
    "    \n",
    "    # Add title and labels\n",
    "    plt.title('Sentiment Distribution')\n",
    "    plt.xlabel('Sentiment')\n",
    "    plt.ylabel('Count')\n",
    "    \n",
    "    # Add sentiment labels to x-axis ticks\n",
    "    plt.xticks(ticks=range(len(sentiment_counts.index)), labels=sentiment_counts.index, rotation=0)\n",
    "    \n",
    "    # Show plot\n",
    "    plt.show()\n",
    "\n",
    "plot_sentiment_distribution(dataset)"
   ]
  },
  {
   "cell_type": "markdown",
   "metadata": {},
   "source": [
    "Dataset is Unbalanced is necessary to deal with it\n",
    "To deal with this I'm gonna reduce the number of positive and neutral reviews to equal the number of negative"
   ]
  },
  {
   "cell_type": "code",
   "execution_count": 5,
   "metadata": {},
   "outputs": [
    {
     "name": "stdout",
     "output_type": "stream",
     "text": [
      "Sentiment counts before balancing:\n",
      " True_Sentiment\n",
      "positive    663084\n",
      "neutral      62609\n",
      "negative     45300\n",
      "Name: count, dtype: int64\n",
      "Sentiment counts after balancing:\n",
      " True_Sentiment\n",
      "neutral     45300\n",
      "negative    45300\n",
      "positive    45300\n",
      "Name: count, dtype: int64\n",
      "Number of entries in the balanced DataFrame: 135900\n"
     ]
    }
   ],
   "source": [
    "\n",
    "def balance_dataframe(dataset, sentiment_column='True_Sentiment', random_state=42):\n",
    "    \n",
    "    # Count the number of entries for each sentiment type\n",
    "    sentiment_counts = dataset[sentiment_column].value_counts()\n",
    "    print(\"Sentiment counts before balancing:\\n\", sentiment_counts)\n",
    "    \n",
    "    # Determine the target number of entries based on the smallest class\n",
    "    min_samples = sentiment_counts.min()\n",
    "    \n",
    "    # Sample the same number of entries for each sentiment type\n",
    "    balanced_data = pd.DataFrame()\n",
    "    \n",
    "    for sentiment in sentiment_counts.index:\n",
    "        if sentiment_counts[sentiment] >= min_samples:\n",
    "            subset = dataset[dataset[sentiment_column] == sentiment].sample(n=min_samples, random_state=random_state)\n",
    "        else:\n",
    "            subset = dataset[dataset[sentiment_column] == sentiment]\n",
    "            print(f\"Warning: Not enough samples for sentiment '{sentiment}'. Only {len(subset)} entries available.\")\n",
    "        \n",
    "        balanced_data = pd.concat([balanced_data, subset])\n",
    "    \n",
    "    # Shuffle the resulting balanced DataFrame\n",
    "    balanced_data = balanced_data.sample(frac=1, random_state=random_state).reset_index(drop=True)\n",
    "    \n",
    "    # Print counts after balancing\n",
    "    print(\"Sentiment counts after balancing:\\n\", balanced_data[sentiment_column].value_counts())\n",
    "    \n",
    "    return balanced_data\n",
    "\n",
    "# Example usage with a DataFrame named 'dataset'\n",
    "# dataset = pd.read_csv('your_dataset.csv')  # Load your dataset here\n",
    "\n",
    "# Balance the DataFrame\n",
    "balanced_df = balance_dataframe(dataset)\n",
    "\n",
    "print(f'Number of entries in the balanced DataFrame: {len(balanced_df)}')\n",
    "\n",
    "# Now you can use the balanced_df DataFrame for further processing"
   ]
  },
  {
   "cell_type": "code",
   "execution_count": 7,
   "metadata": {},
   "outputs": [
    {
     "name": "stdout",
     "output_type": "stream",
     "text": [
      "Sentiment counts:\n",
      " True_Sentiment\n",
      "neutral     45300\n",
      "negative    45300\n",
      "positive    45300\n",
      "Name: count, dtype: int64\n"
     ]
    },
    {
     "data": {
      "image/png": "[encoded data removed]",
      "text/plain": [
       "<Figure size 800x600 with 1 Axes>"
      ]
     },
     "metadata": {},
     "output_type": "display_data"
    }
   ],
   "source": [
    "plot_sentiment_distribution(balanced_df)"
   ]
  },
  {
   "cell_type": "code",
   "execution_count": 9,
   "metadata": {},
   "outputs": [
    {
     "name": "stdout",
     "output_type": "stream",
     "text": [
      "<class 'pandas.core.frame.DataFrame'>\n",
      "RangeIndex: 135900 entries, 0 to 135899\n",
      "Data columns (total 16 columns):\n",
      " #   Column                Non-Null Count   Dtype  \n",
      "---  ------                --------------   -----  \n",
      " 0   title                 135900 non-null  object \n",
      " 1   text                  135900 non-null  object \n",
      " 2   date                  135900 non-null  object \n",
      " 3   hotel_class           135900 non-null  float64\n",
      " 4   name                  135900 non-null  object \n",
      " 5   region                135900 non-null  object \n",
      " 6   clean_text            135900 non-null  object \n",
      " 7   service               135900 non-null  float64\n",
      " 8   cleanliness           135900 non-null  float64\n",
      " 9   overall               135900 non-null  float64\n",
      " 10  value                 135900 non-null  float64\n",
      " 11  location              135900 non-null  float64\n",
      " 12  sleep_quality         135900 non-null  float64\n",
      " 13  rooms                 135900 non-null  float64\n",
      " 14  True_Sentiment        135900 non-null  object \n",
      " 15  Value_True_sentiment  135900 non-null  int64  \n",
      "dtypes: float64(8), int64(1), object(7)\n",
      "memory usage: 16.6+ MB\n"
     ]
    }
   ],
   "source": [
    "balanced_df.info()"
   ]
  },
  {
   "cell_type": "code",
   "execution_count": 10,
   "metadata": {},
   "outputs": [
    {
     "name": "stdout",
     "output_type": "stream",
     "text": [
      "The dataset does not contain any NaN values.\n"
     ]
    }
   ],
   "source": [
    "# Check if the dataset contains any NaN values\n",
    "if dataset.isna().any().any():\n",
    "    print(\"The dataset contains NaN values.\")\n",
    "else:\n",
    "    print(\"The dataset does not contain any NaN values.\")"
   ]
  },
  {
   "cell_type": "markdown",
   "metadata": {},
   "source": [
    "Classification with tf-idf"
   ]
  },
  {
   "cell_type": "code",
   "execution_count": 12,
   "metadata": {},
   "outputs": [
    {
     "name": "stdout",
     "output_type": "stream",
     "text": [
      "Accuracy: 68.10%\n",
      "              precision    recall  f1-score   support\n",
      "\n",
      "    negative       0.65      0.66      0.65     13693\n",
      "     neutral       0.55      0.52      0.54     13456\n",
      "    positive       0.84      0.85      0.85     13621\n",
      "\n",
      "    accuracy                           0.68     40770\n",
      "   macro avg       0.68      0.68      0.68     40770\n",
      "weighted avg       0.68      0.68      0.68     40770\n",
      "\n",
      "Top positive features:\n",
      "          feature  positive\n",
      "2035        great  5.332092\n",
      "3220      perfect  4.492608\n",
      "1655    excellent  4.022049\n",
      "1015  comfortable  3.975687\n",
      "948         clean  3.691307\n",
      "2163     hesitate  3.262201\n",
      "3297   pleasantly  3.237196\n",
      "2676        loved  3.118644\n",
      "1602      enjoyed  3.117189\n",
      "4939    wonderful  2.975404\n",
      "\n",
      "Top negative features:\n",
      "         feature  negative\n",
      "3121  overpriced  3.814893\n",
      "4960       worst  3.674070\n",
      "2222    horrible  2.858312\n",
      "1391       dirty  2.772778\n",
      "2887       money  2.715014\n",
      "1410  disgusting  2.704887\n",
      "4447    terrible  2.669856\n",
      "1804      filthy  2.646701\n",
      "3777        rude  2.613120\n",
      "3326        poor  2.560249\n",
      "\n",
      "Top neutral features:\n",
      "            feature   neutral\n",
      "61             2003  3.138597\n",
      "62             2004  2.664481\n",
      "1317         demand  1.677134\n",
      "3326           poor  1.583983\n",
      "1397  disappointing  1.565104\n",
      "3695        restful  1.541308\n",
      "4963         wouldn  1.530024\n",
      "3350      potential  1.477490\n",
      "3056             ok  1.443898\n",
      "1342        desired  1.392179\n"
     ]
    }
   ],
   "source": [
    "import pandas as pd\n",
    "import numpy as np\n",
    "from sklearn.feature_extraction.text import TfidfVectorizer\n",
    "from sklearn.linear_model import LogisticRegression\n",
    "from sklearn.metrics import accuracy_score\n",
    "from sklearn.model_selection import train_test_split\n",
    "\n",
    "\n",
    "# Map sentiment labels to numeric values\n",
    "balanced_df['Value_True_sentiment'] = balanced_df['True_Sentiment'].map({'positive': 1, 'negative': -1,'neutral':0})\n",
    "\n",
    "# Example preprocessing: Split into training and test sets\n",
    "X_train, X_test, y_train, y_test = train_test_split(balanced_df['text'], balanced_df['Value_True_sentiment'], test_size=0.3, random_state=42)\n",
    "\n",
    "\n",
    "# Transform text data to TF-IDF features\n",
    "vectorizer = TfidfVectorizer(\n",
    "    stop_words='english', # Remove English stop words\n",
    "    max_df=0.95,   # Ignore terms that appear in more than 95% of documents\n",
    "    min_df=5,  # Ignore terms that appear in fewer than 5 reviews\n",
    "    max_features=5000,  # Keep only the top 5000 features\n",
    "    ngram_range=(1, 1), # Use unigrams only\n",
    "    sublinear_tf=True) # Apply sublinear term frequency scaling\n",
    "\n",
    "X_train_tfidf = vectorizer.fit_transform(X_train)\n",
    "X_test_tfidf = vectorizer.transform(X_test)\n",
    "\n",
    "# Train the model with multi-class classification\n",
    "model = LogisticRegression(max_iter=1000)\n",
    "model.fit(X_train_tfidf, y_train)\n",
    "\n",
    "# Predict on the test set\n",
    "y_pred = model.predict(X_test_tfidf)\n",
    "\n",
    "# Calculate accuracy\n",
    "accuracy = accuracy_score(y_test, y_pred)\n",
    "print(f'Accuracy: {accuracy * 100:.2f}%')\n",
    "\n",
    "# Print classification report\n",
    "print(classification_report(y_test, y_pred, target_names=['negative', 'neutral', 'positive']))\n",
    "\n",
    "# Get feature names and weights\n",
    "feature_names = vectorizer.get_feature_names_out()\n",
    "weights = model.coef_\n",
    "\n",
    "# Create a DataFrame for each class with feature names and their corresponding weights\n",
    "weights_df = pd.DataFrame({'feature': feature_names})\n",
    "weights_df['negative'] = weights[0]\n",
    "weights_df['neutral'] = weights[1]\n",
    "weights_df['positive'] = weights[2]\n",
    "\n",
    "# Sort the DataFrame by weights for each class\n",
    "top_positive = weights_df[['feature', 'positive']].sort_values(by='positive', ascending=False).head(10)\n",
    "top_negative = weights_df[['feature', 'negative']].sort_values(by='negative', ascending=False).head(10)\n",
    "top_neutral = weights_df[['feature', 'neutral']].sort_values(by='neutral', ascending=False).head(10)\n",
    "\n",
    "print('Top positive features:')\n",
    "print(top_positive)\n",
    "print('\\nTop negative features:')\n",
    "print(top_negative)\n",
    "print('\\nTop neutral features:')\n",
    "print(top_neutral)"
   ]
  }
 ],
 "metadata": {
  "kernelspec": {
   "display_name": "Python 3",
   "language": "python",
   "name": "python3"
  },
  "language_info": {
   "codemirror_mode": {
    "name": "ipython",
    "version": 3
   },
   "file_extension": ".py",
   "mimetype": "text/x-python",
   "name": "python",
   "nbconvert_exporter": "python",
   "pygments_lexer": "ipython3",
   "version": "3.12.4"
  }
 },
 "nbformat": 4,
 "nbformat_minor": 2
}
